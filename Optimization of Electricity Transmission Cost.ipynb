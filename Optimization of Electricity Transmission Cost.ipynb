{
 "cells": [
  {
   "cell_type": "markdown",
   "metadata": {},
   "source": [
    "# Problem Description\n",
    "\n",
    "There are three eletric power plants that supply to four cities such as New York, Boston, Philadelphia , NewJersy. Based on the data of the costs of sending 1 million kwh of electricity from a plant to a city, we want to find the optimal cost of meeting all citys’s peak power demand. Assuming their peak demand all occur at the same time and the transmission cost are assumed to be proportional to the distance the electricity need travel from plants to cities.\n",
    "\n",
    "\n",
    "---\n",
    "## Python Implementation\n",
    "\n",
    "We import the Gurobi Python Module."
   ]
  },
  {
   "cell_type": "markdown",
   "metadata": {},
   "source": [
    "## OPTIMIZING ELECTRICITY TRANSMISSION COST"
   ]
  },
  {
   "cell_type": "code",
   "execution_count": 1,
   "metadata": {},
   "outputs": [
    {
     "name": "stdout",
     "output_type": "stream",
     "text": [
      "Set parameter Username\n",
      "Academic license - for non-commercial use only - expires 2022-11-17\n",
      "Gurobi Optimizer version 9.5.0 build v9.5.0rc5 (win64)\n",
      "Thread count: 2 physical cores, 4 logical processors, using up to 4 threads\n",
      "Optimize a model with 7 rows, 12 columns and 24 nonzeros\n",
      "Model fingerprint: 0x8b7903f0\n",
      "Coefficient statistics:\n",
      "  Matrix range     [1e+00, 1e+00]\n",
      "  Objective range  [2e+00, 2e+01]\n",
      "  Bounds range     [0e+00, 0e+00]\n",
      "  RHS range        [2e+01, 6e+01]\n",
      "Presolve time: 0.01s\n",
      "Presolved: 7 rows, 12 columns, 24 nonzeros\n",
      "\n",
      "Iteration    Objective       Primal Inf.    Dual Inf.      Time\n",
      "       0    0.0000000e+00   1.400000e+02   0.000000e+00      0s\n",
      "       6    6.3500000e+02   0.000000e+00   0.000000e+00      0s\n",
      "\n",
      "Solved in 6 iterations and 0.03 seconds (0.00 work units)\n",
      "Optimal objective  6.350000000e+02\n",
      "Optimized Cost 635.0\n",
      "--------------------\n",
      "cities: 0 Demand: 50\n",
      "--------------------\n",
      "     plants 0 0.0\n",
      "     plants 1 50.0\n",
      "     plants 2 0.0\n",
      "--------------------\n",
      "cities: 1 Demand: 30\n",
      "--------------------\n",
      "     plants 0 0.0\n",
      "     plants 1 0.0\n",
      "     plants 2 30.0\n",
      "--------------------\n",
      "cities: 2 Demand: 40\n",
      "--------------------\n",
      "     plants 0 15.0\n",
      "     plants 1 10.0\n",
      "     plants 2 15.0\n",
      "--------------------\n",
      "cities: 3 Demand: 20\n",
      "--------------------\n",
      "     plants 0 20.0\n",
      "     plants 1 0.0\n",
      "     plants 2 0.0\n"
     ]
    }
   ],
   "source": [
    "from gurobipy import *\n",
    "#sets\n",
    "plants=['Plant A','Plant B','Plant C' ]\n",
    "cities =['NewYork','Boston','Philadelphia','NewJersy']\n",
    "I = range(len(plants))\n",
    "J = range(len(cities))\n",
    "\n",
    "#data\n",
    "Costs= [[8,12,7,3],\n",
    "    [4,18,6,9],\n",
    "    [14,2,10,15]]\n",
    "\n",
    "Demand = [50,30,40,20]\n",
    "Supply = [35,60,50]\n",
    "\n",
    "\n",
    "# Transportation Problem  \n",
    "m = Model('Trans Model')\n",
    "\n",
    "X={}\n",
    "for i in I:\n",
    "    for j in J:\n",
    "        X[i,j]=m.addVar()\n",
    "        \n",
    "\n",
    "m.setObjective(quicksum(Costs[i][j]*X[i,j] for i in I for j in J), GRB.MINIMIZE)\n",
    "\n",
    "for j in J:\n",
    "    m.addConstr(quicksum(X[i,j] for i in I) >= Demand[j])\n",
    "\n",
    "for i in I:\n",
    "    m.addConstr(quicksum(X[i,j] for j in J) <= Supply[i])\n",
    "\n",
    "m.optimize()\n",
    "print('Optimized Cost', m.objVal)\n",
    "\n",
    "# Sensitivity Analysis\n",
    "for j in J:\n",
    "    print('-'*20)\n",
    "    print(\"cities:\",j,\"Demand:\",Demand[j])\n",
    "    print(\"-\"*20)\n",
    "    for i in I:\n",
    "        print(\"     plants\", i, X[i,j].x)\n"
   ]
  },
  {
   "cell_type": "markdown",
   "metadata": {},
   "source": [
    "|Plant| NewYork | Boston| Philadelphia| NewJersy| Supply (million kwh)|\n",
    "|---| --- | --- | --- | ---| --- |\n",
    "|A| 0  mKwh | 0 mKwh | 15 mKwh | 20 mKwh | 35 mKwh |\n",
    "|B| 50 mKwh | 0 mKwh |  10 mKwh |  0 mKwh | 60 mKwh |\n",
    "|C| 0 mKwh | 30 mKwh | 15 mKwh |  0 mKwh | 45 mKwh |\n",
    "|Demand (million kwh)| 50 mKwh | 30 mKwh | 40 mKwh | 20 mKwh| \n",
    "\n",
    "The optimum cost of transmission is \\$635."
   ]
  },
  {
   "cell_type": "code",
   "execution_count": null,
   "metadata": {},
   "outputs": [],
   "source": []
  }
 ],
 "metadata": {
  "kernelspec": {
   "display_name": "Python 3 (ipykernel)",
   "language": "python",
   "name": "python3"
  },
  "language_info": {
   "codemirror_mode": {
    "name": "ipython",
    "version": 3
   },
   "file_extension": ".py",
   "mimetype": "text/x-python",
   "name": "python",
   "nbconvert_exporter": "python",
   "pygments_lexer": "ipython3",
   "version": "3.9.7"
  }
 },
 "nbformat": 4,
 "nbformat_minor": 2
}
